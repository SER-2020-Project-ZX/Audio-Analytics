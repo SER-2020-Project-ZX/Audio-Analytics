{
 "cells": [
  {
   "cell_type": "markdown",
   "metadata": {},
   "source": [
    "# Import the packages"
   ]
  },
  {
   "cell_type": "code",
   "execution_count": 18,
   "metadata": {},
   "outputs": [],
   "source": [
    "# Python\n",
    "\n",
    "import os\n",
    "import glob \n",
    "import librosa\n",
    "import librosa.display\n",
    "import numpy as np\n",
    "import pandas as pd\n",
    "import matplotlib.pyplot as plt\n",
    "import plotly.graph_objs as go\n",
    "import plotly.offline as py\n",
    "import plotly.tools as tls\n",
    "import seaborn as sns\n",
    "import scipy.io.wavfile\n",
    "import IPython.display as ipd\n",
    "\n",
    "\n",
    "import tensorflow as tf\n",
    "from matplotlib.pyplot import specgram\n",
    "from tensorflow import keras\n",
    "from keras import regularizers\n",
    "from keras.preprocessing import sequence\n",
    "from keras.models import Sequential\n",
    "from keras.layers import Dense, Embedding\n",
    "from keras.layers import LSTM\n",
    "from keras.preprocessing.text import Tokenizer\n",
    "from keras.preprocessing.sequence import pad_sequences\n",
    "from keras.utils import to_categorical\n",
    "from keras.layers import Input, Flatten, Dropout, Activation\n",
    "from keras.layers import Conv1D, MaxPooling1D, AveragePooling1D\n",
    "from keras.models import Model\n",
    "from keras.callbacks import ModelCheckpoint\n",
    "from sklearn.metrics import confusion_matrix\n"
   ]
  },
  {
   "cell_type": "markdown",
   "metadata": {},
   "source": [
    "# Access the Data"
   ]
  },
  {
   "cell_type": "code",
   "execution_count": 15,
   "metadata": {},
   "outputs": [
    {
     "name": "stdout",
     "output_type": "stream",
     "text": [
      "['Actor_01', 'Actor_02', 'Actor_03', 'Actor_04', 'Actor_05', 'Actor_06', 'Actor_07', 'Actor_08', 'Actor_09', 'Actor_10', 'Actor_11', 'Actor_12', 'Actor_13', 'Actor_14', 'Actor_15', 'Actor_16', 'Actor_17', 'Actor_18', 'Actor_19', 'Actor_20', 'Actor_21', 'Actor_22', 'Actor_23', 'Actor_24']\n"
     ]
    }
   ],
   "source": [
    "prefix_path = '/Users/lordxuzhiyu/Desktop/Audio_Speech_Actors_01-24/'\n",
    "mylist = os.listdir(prefix_path)\n",
    "mylist.sort()\n",
    "print(mylist)"
   ]
  },
  {
   "cell_type": "code",
   "execution_count": 16,
   "metadata": {},
   "outputs": [],
   "source": [
    "# Create DataFrame for Data intel\n",
    "data_df = pd.DataFrame(columns=['path', 'source', 'actor', 'gender',\n",
    "                                'intensity', 'statement', 'repetition', 'emotion'])\n",
    "count = 0\n",
    "for i in mylist:\n",
    "    file_list = os.listdir(prefix_path + i)\n",
    "    for f in file_list:\n",
    "        nm = f.split('.')[0].split('-')\n",
    "        path = prefix_path + i + '/' + f\n",
    "        src = int(nm[1])\n",
    "        actor = int(nm[-1])\n",
    "        emotion = int(nm[2])\n",
    "        \n",
    "        if int(actor)%2 == 0:\n",
    "            gender = \"female\"\n",
    "        else:\n",
    "            gender = \"male\"\n",
    "        \n",
    "        if nm[3] == '01':\n",
    "            intensity = 0\n",
    "        else:\n",
    "            intensity = 1\n",
    "        \n",
    "        if nm[4] == '01':\n",
    "            statement = 0\n",
    "        else:\n",
    "            statement = 1\n",
    "        \n",
    "        if nm[5] == '01':\n",
    "            repeat = 0\n",
    "        else:\n",
    "            repeat = 1\n",
    "            \n",
    "        data_df.loc[count] = [path, src, actor, gender, intensity, statement, repeat, emotion]\n",
    "        count += 1"
   ]
  },
  {
   "cell_type": "code",
   "execution_count": 17,
   "metadata": {},
   "outputs": [
    {
     "name": "stdout",
     "output_type": "stream",
     "text": [
      "1440\n"
     ]
    },
    {
     "data": {
      "text/html": [
       "<div>\n",
       "<style scoped>\n",
       "    .dataframe tbody tr th:only-of-type {\n",
       "        vertical-align: middle;\n",
       "    }\n",
       "\n",
       "    .dataframe tbody tr th {\n",
       "        vertical-align: top;\n",
       "    }\n",
       "\n",
       "    .dataframe thead th {\n",
       "        text-align: right;\n",
       "    }\n",
       "</style>\n",
       "<table border=\"1\" class=\"dataframe\">\n",
       "  <thead>\n",
       "    <tr style=\"text-align: right;\">\n",
       "      <th></th>\n",
       "      <th>path</th>\n",
       "      <th>source</th>\n",
       "      <th>actor</th>\n",
       "      <th>gender</th>\n",
       "      <th>intensity</th>\n",
       "      <th>statement</th>\n",
       "      <th>repetition</th>\n",
       "      <th>emotion</th>\n",
       "    </tr>\n",
       "  </thead>\n",
       "  <tbody>\n",
       "    <tr>\n",
       "      <th>0</th>\n",
       "      <td>/Users/lordxuzhiyu/Desktop/Audio_Speech_Actors...</td>\n",
       "      <td>1</td>\n",
       "      <td>1</td>\n",
       "      <td>male</td>\n",
       "      <td>1</td>\n",
       "      <td>1</td>\n",
       "      <td>0</td>\n",
       "      <td>8</td>\n",
       "    </tr>\n",
       "    <tr>\n",
       "      <th>1</th>\n",
       "      <td>/Users/lordxuzhiyu/Desktop/Audio_Speech_Actors...</td>\n",
       "      <td>1</td>\n",
       "      <td>1</td>\n",
       "      <td>male</td>\n",
       "      <td>0</td>\n",
       "      <td>0</td>\n",
       "      <td>0</td>\n",
       "      <td>8</td>\n",
       "    </tr>\n",
       "    <tr>\n",
       "      <th>2</th>\n",
       "      <td>/Users/lordxuzhiyu/Desktop/Audio_Speech_Actors...</td>\n",
       "      <td>1</td>\n",
       "      <td>1</td>\n",
       "      <td>male</td>\n",
       "      <td>0</td>\n",
       "      <td>1</td>\n",
       "      <td>0</td>\n",
       "      <td>5</td>\n",
       "    </tr>\n",
       "    <tr>\n",
       "      <th>3</th>\n",
       "      <td>/Users/lordxuzhiyu/Desktop/Audio_Speech_Actors...</td>\n",
       "      <td>1</td>\n",
       "      <td>1</td>\n",
       "      <td>male</td>\n",
       "      <td>0</td>\n",
       "      <td>1</td>\n",
       "      <td>1</td>\n",
       "      <td>6</td>\n",
       "    </tr>\n",
       "    <tr>\n",
       "      <th>4</th>\n",
       "      <td>/Users/lordxuzhiyu/Desktop/Audio_Speech_Actors...</td>\n",
       "      <td>1</td>\n",
       "      <td>1</td>\n",
       "      <td>male</td>\n",
       "      <td>1</td>\n",
       "      <td>0</td>\n",
       "      <td>1</td>\n",
       "      <td>6</td>\n",
       "    </tr>\n",
       "  </tbody>\n",
       "</table>\n",
       "</div>"
      ],
      "text/plain": [
       "                                                path source actor gender  \\\n",
       "0  /Users/lordxuzhiyu/Desktop/Audio_Speech_Actors...      1     1   male   \n",
       "1  /Users/lordxuzhiyu/Desktop/Audio_Speech_Actors...      1     1   male   \n",
       "2  /Users/lordxuzhiyu/Desktop/Audio_Speech_Actors...      1     1   male   \n",
       "3  /Users/lordxuzhiyu/Desktop/Audio_Speech_Actors...      1     1   male   \n",
       "4  /Users/lordxuzhiyu/Desktop/Audio_Speech_Actors...      1     1   male   \n",
       "\n",
       "  intensity statement repetition emotion  \n",
       "0         1         1          0       8  \n",
       "1         0         0          0       8  \n",
       "2         0         1          0       5  \n",
       "3         0         1          1       6  \n",
       "4         1         0          1       6  "
      ]
     },
     "execution_count": 17,
     "metadata": {},
     "output_type": "execute_result"
    }
   ],
   "source": [
    "print(len(data_df))\n",
    "data_df.head()"
   ]
  },
  {
   "cell_type": "code",
   "execution_count": null,
   "metadata": {},
   "outputs": [],
   "source": []
  }
 ],
 "metadata": {
  "kernelspec": {
   "display_name": "Python 3",
   "language": "python",
   "name": "python3"
  },
  "language_info": {
   "codemirror_mode": {
    "name": "ipython",
    "version": 3
   },
   "file_extension": ".py",
   "mimetype": "text/x-python",
   "name": "python",
   "nbconvert_exporter": "python",
   "pygments_lexer": "ipython3",
   "version": "3.7.3"
  },
  "toc": {
   "base_numbering": 1,
   "nav_menu": {},
   "number_sections": true,
   "sideBar": true,
   "skip_h1_title": false,
   "title_cell": "Table of Contents",
   "title_sidebar": "Contents",
   "toc_cell": false,
   "toc_position": {},
   "toc_section_display": true,
   "toc_window_display": true
  }
 },
 "nbformat": 4,
 "nbformat_minor": 2
}
